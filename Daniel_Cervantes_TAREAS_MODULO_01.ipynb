{
  "nbformat": 4,
  "nbformat_minor": 0,
  "metadata": {
    "colab": {
      "provenance": []
    },
    "kernelspec": {
      "name": "python3",
      "display_name": "Python 3"
    },
    "language_info": {
      "name": "python"
    }
  },
  "cells": [
    {
      "cell_type": "markdown",
      "source": [
        "## Retos:\n",
        "1. Pregunta al usuario dos números y luego retorna el resultado. Nota: los valores que entran se identifican como string, debes convertirlos a integer o float.\n",
        "2. Pida al usuario que ingrese tres números. Suma los dos primeros números y luego multiplica este total por el tercero.\n",
        "3. Escriba un programa que solicite una cantidad de días y luego muestre cuántas horas, minutos y segundos hay en esa cantidad de días.\n",
        "4. Has un programa que pida al usuario un número mayor a 100 y otro menor 10, y que retorne cuantes veces el número menor cabe dentro del número mayor. Nota: debe retornar un valor entero (integer).\n",
        "5. Muestra pi (π) con cinco decimales.\n",
        "6. Explica de manera breve la diferencia entre `math` y `numpy`.\n",
        "Nota 01: puedes usar el modulo de `numpy` o usar el modulo de `math`.\n",
        "\n",
        "Nota 02: Recuerda que al introducir un numero usando `input `debes convertirlo a un número float o int.\n",
        "\n",
        "```python\n",
        "\n",
        "num = float(input(\"Introduce un número: \")) # Para el caso de usar float.\n",
        "\n",
        "```"
      ],
      "metadata": {
        "id": "RNcX9IEs6MKZ"
      }
    },
    {
      "cell_type": "code",
      "source": [
        "import random\n",
        "import numpy as np\n",
        "import pandas as pd\n",
        "import re"
      ],
      "metadata": {
        "id": "B_4RyMDj5Xxo"
      },
      "execution_count": 38,
      "outputs": []
    },
    {
      "cell_type": "code",
      "source": [
        "#Reto 1.1\n",
        "User = input(\"Introduce dos números, separados por coma y espacio: \")\n",
        "User = User.split(\", \")\n",
        "User = [int(i) for i in User]\n",
        "print(f\"La suma de los dos números es: {User[0] + User[1]}\")\n"
      ],
      "metadata": {
        "colab": {
          "base_uri": "https://localhost:8080/"
        },
        "id": "kHrGaPe6uFqy",
        "outputId": "4719efd6-8abb-4996-bf09-740654fa5539"
      },
      "execution_count": null,
      "outputs": [
        {
          "output_type": "stream",
          "name": "stdout",
          "text": [
            "Introduce dos números, separados por coma y espacio: 3, 5\n",
            "La suma de los dos números es: 8\n"
          ]
        }
      ]
    },
    {
      "cell_type": "code",
      "source": [
        "#Reto 1.2\n",
        "User = input(\"Introduce tres números, separados por coma y espacio: \")\n",
        "User = User.split(\", \")\n",
        "User = [int(i) for i in User]\n",
        "print(f\"La suma de los dos primeros números es: {(User[0] + User[1])}, y luego se multiplica por el tercero: {((User[0] + User[1]) * User[2])}\")"
      ],
      "metadata": {
        "colab": {
          "base_uri": "https://localhost:8080/"
        },
        "id": "upxKb32Yvn-8",
        "outputId": "c84150dc-8932-4e91-e410-9acac35cb36e"
      },
      "execution_count": null,
      "outputs": [
        {
          "output_type": "stream",
          "name": "stdout",
          "text": [
            "Introduce tres números, separados por coma y espacio: 3, 6, 2\n",
            "La suma de los dos primeros números es: 9, y luego se multiplica por el tercero: 18\n"
          ]
        }
      ]
    },
    {
      "cell_type": "code",
      "source": [
        "#Reto 1.3\n",
        "User = input(\"Intruduce un número de días:\")\n",
        "User = int(User)\n",
        "print(f\"En {User} días hay {User * 24} horas, {User * 24 * 60} minutos, y {User * 24 * 60 * 60} segundos.\")"
      ],
      "metadata": {
        "colab": {
          "base_uri": "https://localhost:8080/"
        },
        "id": "Nd7bKhp1wsdK",
        "outputId": "13dfcae2-1f00-40d1-c8c6-8f80239196a6"
      },
      "execution_count": null,
      "outputs": [
        {
          "output_type": "stream",
          "name": "stdout",
          "text": [
            "Intruduce un número de días:50\n",
            "En 50 días hay 1200 horas, 72000 minutos, y 4320000 segundos.\n"
          ]
        }
      ]
    },
    {
      "cell_type": "code",
      "source": [
        "#Reto 1.4\n",
        "user = input(\" Introduc un número mayor a 100 y otro menor a 10, separados por coma y espacio:\")\n",
        "user = user.split(\", \")\n",
        "user = [int(i) for i in user]\n",
        "print(f\"El número menor cabe {user[0] // user[1]} veces en el número mayor.\")"
      ],
      "metadata": {
        "colab": {
          "base_uri": "https://localhost:8080/"
        },
        "id": "B2TaPbBzxHru",
        "outputId": "e7af3961-daa2-45ca-e890-a989c72f73f1"
      },
      "execution_count": null,
      "outputs": [
        {
          "output_type": "stream",
          "name": "stdout",
          "text": [
            " Introduc un número mayor a 100 y otro menor a 10, separados por coma y espacio:100, 4\n",
            "El número menor cabe 25 veces en el número mayor.\n"
          ]
        }
      ]
    },
    {
      "cell_type": "code",
      "source": [
        "#Reto 1.5\n",
        "print(f\"Pi con cinco decimales es: {np.pi:.5f}\")"
      ],
      "metadata": {
        "colab": {
          "base_uri": "https://localhost:8080/"
        },
        "id": "ojhfZaeQxkj5",
        "outputId": "140b096e-d572-4087-e360-1917cf39aa9d"
      },
      "execution_count": null,
      "outputs": [
        {
          "output_type": "stream",
          "name": "stdout",
          "text": [
            "Pi con cinco decimales es: 3.14159\n"
          ]
        }
      ]
    },
    {
      "cell_type": "markdown",
      "source": [
        "Retos:\n",
        "1. Pídale al usuario que ingrese su nombre y luego muestre la longitud de su nombre.\n",
        "2. Pídale al usuario que ingrese su nombre y luego pídale que ingrese su apellido. Únalos con un espacio entre ellos y muestre el nombre y la longitud del nombre completo.\n",
        "3. Pídale al usuario que escriba cualquier palabra y la muestre en mayúsculas.\n",
        "4. Pídale al usuario que ingrese su nombre. Si la longitud de su nombre tiene menos de cinco caracteres, pídales que ingresen su apellido y los unan (sin espacios) y muestren el nombre en mayúsculas. Si la longitud del nombre es de cinco o más caracteres, muestre su nombre en minúsculas."
      ],
      "metadata": {
        "id": "ClU8Ebc_6M85"
      }
    },
    {
      "cell_type": "code",
      "source": [
        "#Reto 2.1\n",
        "user = input(\"Introduce tu nombre: \")\n",
        "print(f\"Tu nombre tiene {len(user)} caracteres.\")"
      ],
      "metadata": {
        "colab": {
          "base_uri": "https://localhost:8080/"
        },
        "id": "ZOc5wbbOyccp",
        "outputId": "d080bfe8-288f-4b37-bae7-2295a32e28b4"
      },
      "execution_count": null,
      "outputs": [
        {
          "output_type": "stream",
          "name": "stdout",
          "text": [
            "Introduce tu nombre: Daniel\n",
            "Tu nombre tiene 6 caracteres.\n"
          ]
        }
      ]
    },
    {
      "cell_type": "code",
      "source": [
        "#Reto 2.2\n",
        "user = input(\"Introduce tu nombre: \")\n",
        "user2 = input(\"Introduce tu apellido: \")\n",
        "print(f\"Tu nombre completo es: {user} {user2} y tiene {len(user) + len(user2)} caracteres.\")"
      ],
      "metadata": {
        "colab": {
          "base_uri": "https://localhost:8080/"
        },
        "id": "zUh3KS_Czgka",
        "outputId": "76acb140-d0fe-4760-82b4-cf1b6a09bbec"
      },
      "execution_count": null,
      "outputs": [
        {
          "output_type": "stream",
          "name": "stdout",
          "text": [
            "Introduce tu nombre: daniel\n",
            "Introduce tu apellido: cervantes\n",
            "Tu nombre completo es: <built-in method upper of str object at 0x7f7afcc93430> cervantes y tiene 15 caracteres.\n"
          ]
        }
      ]
    },
    {
      "cell_type": "code",
      "source": [
        "#Reto 2.3\n",
        "user = input(\"Introduce una palabra: \")\n",
        "print(f\"Tu palabras en mayúsculas es: {user.upper()}\")"
      ],
      "metadata": {
        "colab": {
          "base_uri": "https://localhost:8080/"
        },
        "id": "AVjpQXCz1Hrj",
        "outputId": "e2799a60-90fd-4041-dc53-70d24f0d6553"
      },
      "execution_count": null,
      "outputs": [
        {
          "output_type": "stream",
          "name": "stdout",
          "text": [
            "Introduce una palabra: foca\n",
            "Tu palabras en mayúsculas es: FOCA\n"
          ]
        }
      ]
    },
    {
      "cell_type": "code",
      "source": [
        "#Reto 2.4\n",
        "user = input(\"Introduce tu nombre:\")\n",
        "if len(user) < 5:\n",
        "   user2 = input(\"Introduce tu apellido: \")\n",
        "   print(f\"Tu nombre completo es: {user.upper()}{user2}\")\n",
        "else:\n",
        "    print(f\"Tu nombre es: {user}\")"
      ],
      "metadata": {
        "colab": {
          "base_uri": "https://localhost:8080/"
        },
        "id": "oVohzND01rs5",
        "outputId": "f4d19218-7e2b-4c9b-f285-4c3f9e2b8ee0"
      },
      "execution_count": null,
      "outputs": [
        {
          "output_type": "stream",
          "name": "stdout",
          "text": [
            "Introduce tu nombre:ana\n",
            "Introduce tu apellido: perez\n",
            "Tu nombre completo es: ANAperez\n"
          ]
        }
      ]
    },
    {
      "cell_type": "markdown",
      "source": [
        "## Métodos Importantes de los Strings en Python\n",
        "\n",
        "En Python, los strings son objetos que tienen una variedad de métodos integrados que facilitan su manipulación. A continuación, se presentan algunos de los métodos más importantes:\n",
        "\n",
        "- `len()`: Es un método no exclusivo de strings, pero puede usarse para retornar el largo, ya sea de un sntring, lista, tupla o diccioanrio.\n",
        "- `upper()`: Convierte el string a mayúsculas.\n",
        "\n",
        "- `lower()`: Convierte el string a minúsculas.\n",
        "\n",
        "- `capitalize()`: Convierte el primer carácter del string a mayúscula y el resto a minúsculas.\n",
        "\n",
        "- `strip()`: Elimina los espacios en blanco al principio y al final del string.\n",
        "\n",
        "- `replace(old, new)`: Reemplaza todas las ocurrencias del substring \"old\" con el substring \"new\".\n",
        "\n",
        "- `split(sep)`: Divide el string en una lista de substrings basados en el separador \"sep\".\n",
        "\n",
        "- `join(iterable)`: Une los elementos de un iterable (por ejemplo, una lista) en un string utilizando el string como separador.\n",
        "\n",
        "- `find(sub)`: Devuelve el índice de la primera ocurrencia del substring \"sub\" en el string. Si no se encuentra, devuelve -1.\n",
        "\n",
        "- `startswith(prefix)`: Devuelve True si el string comienza con el prefijo \"prefix\", de lo contrario, devuelve False.\n",
        "\n",
        "- `endswith(suffix)`: Devuelve True si el string termina con el sufijo \"suffix\", de lo contrario, devuelve False.\n",
        "\n",
        "### Tarea/Reto:\n",
        "\n",
        "Investiga otros métodos de los strings en Python. Puedes consultar la documentación oficial de Python o buscar tutoriales en línea. Intenta encontrar métodos que te resulten interesantes o útiles para tus proyectos futuros. Algunos lugares para comenzar tu investigación incluyen:\n",
        "\n",
        "- [Documentación oficial de Python](https://docs.python.org/3/library/stdtypes.html#string-methods)\n",
        "- Tutoriales en línea sobre Python y programación en general.\n",
        "- ChatGPT.\n",
        "\n",
        "¡Buena suerte con tu investigación! Aprender sobre métodos adicionales de los strings te ayudará a mejorar tus habilidades de programación en Python."
      ],
      "metadata": {
        "id": "_eyPu5ri6USF"
      }
    },
    {
      "cell_type": "markdown",
      "source": [
        "Retos:\n",
        "1. Pídale al usuario que ingrese su nombre y luego muestre su nombre tres veces.\n",
        "2. Modifique el programa 1 para que le solicite al usuario que ingrese su nombre y un número y luego muestre su nombre ese número de veces.\n",
        "3. Pídale al usuario que ingrese su nombre y muestre cada letra de su nombre en una línea separada.\n",
        "4. Pregunte al usuario en qué dirección quiere contar el usuario (hacia arriba o hacia abajo). Si seleccionan, pídales el número superior y luego cuente desde 1 hasta ese número. Si seleccionan hacia abajo, pídales que ingresen un número inferior a 20 y luego cuenten hacia atrás desde 20 hasta ese número. Si ingresaron algo que no sea arriba o abajo, muestra el mensaje \"No entiendo\".\n",
        "5. Pregunte a cuántas personas quiere invitar el usuario a una fiesta. Si ingresan un número inferior a 10, solicite los nombres y después de cada nombre muestre \"[nombre] ha sido invitado\". Si ingresan un número que es 10 o más, muestra el mensaje \"Demasiadas personas\".\n",
        "\n",
        "Nota: En el Reto 4, se tiene que usar el condicional `if`."
      ],
      "metadata": {
        "id": "fBHb5xG96hdb"
      }
    },
    {
      "cell_type": "code",
      "source": [
        "#Reto 3.1\n",
        "user = input(\"Introduce tu nombre: \")\n",
        "print(f\"{user}\\n{user}\\n{user}\")"
      ],
      "metadata": {
        "colab": {
          "base_uri": "https://localhost:8080/"
        },
        "id": "h4yY0Z8y2vy_",
        "outputId": "9ff0c218-6cfc-4fe6-ef05-d80e92983732"
      },
      "execution_count": null,
      "outputs": [
        {
          "output_type": "stream",
          "name": "stdout",
          "text": [
            "Introduce tu nombre: Daniel\n",
            "Daniel\n",
            "Daniel\n",
            "Daniel\n"
          ]
        }
      ]
    },
    {
      "cell_type": "code",
      "source": [
        "#Reto 3.2\n",
        "user = input(\"Introduce tu nombre: \")\n",
        "user2 = input(\"Introduce un número: \")\n",
        "print(f\"{user}\\n\" * int(user2))"
      ],
      "metadata": {
        "colab": {
          "base_uri": "https://localhost:8080/"
        },
        "id": "P-it5PtD3Sn6",
        "outputId": "5ee570a4-5384-4328-cac1-b8db73bb4de3"
      },
      "execution_count": null,
      "outputs": [
        {
          "output_type": "stream",
          "name": "stdout",
          "text": [
            "Introduce tu nombre: Gavi\n",
            "Introduce un número: 4\n",
            "Gavi\n",
            "Gavi\n",
            "Gavi\n",
            "Gavi\n",
            "\n"
          ]
        }
      ]
    },
    {
      "cell_type": "code",
      "source": [
        "#Reto 3.3\n",
        "user = input(\"Introduce tu nombre: \")\n",
        "for i in user:\n",
        "  print(i)"
      ],
      "metadata": {
        "colab": {
          "base_uri": "https://localhost:8080/"
        },
        "id": "coZcWYgN3k_K",
        "outputId": "3e2c6e9a-3bfa-43c9-d3c9-d2cb4994c59e"
      },
      "execution_count": null,
      "outputs": [
        {
          "output_type": "stream",
          "name": "stdout",
          "text": [
            "Introduce tu nombre: daniel\n",
            "d\n",
            "a\n",
            "n\n",
            "i\n",
            "e\n",
            "l\n"
          ]
        }
      ]
    },
    {
      "cell_type": "code",
      "source": [
        "#Reto 3.4\n",
        "user = input(\"¿En qué dirección quiere contar? (arriba o abajo): \")\n",
        "if user == \"arriba\":\n",
        "  user2 = input(\"Ingrese un número: \")\n",
        "  for i in range(1, int(user2)+1):\n",
        "    print(i)\n",
        "elif user == \"abajo\":\n",
        "  user2 = input(\"Ingrese un número menor a 20: \")\n",
        "  for i in range(20, int(user2) - 1, - 1):\n",
        "    print(i)\n",
        "else:\n",
        "  print(\"No entiendo\")"
      ],
      "metadata": {
        "colab": {
          "base_uri": "https://localhost:8080/"
        },
        "id": "ScOQu38o3zOP",
        "outputId": "1efcabe4-715d-4a13-a5c9-9bed86c07a8e"
      },
      "execution_count": null,
      "outputs": [
        {
          "output_type": "stream",
          "name": "stdout",
          "text": [
            "¿En qué dirección quiere contar? (arriba o abajo): abajo\n",
            "Ingrese un número menor a 20: 34\n",
            "20\n",
            "21\n",
            "22\n",
            "23\n",
            "24\n",
            "25\n",
            "26\n",
            "27\n",
            "28\n",
            "29\n",
            "30\n",
            "31\n",
            "32\n"
          ]
        }
      ]
    },
    {
      "cell_type": "code",
      "source": [
        "#Reto 3.5\n",
        "user = input(\"¿Cuantas personas queire invitar a la fiesta?\")\n",
        "if int(user) < 10:\n",
        "  for i in range (int(user)):\n",
        "    user2 = input(\"Ingrese el nombre de la persona:\")\n",
        "    print(f\"{user2} ha sido invitado\")\n",
        "else:\n",
        "  print(\"Demasiadas personas\")"
      ],
      "metadata": {
        "colab": {
          "base_uri": "https://localhost:8080/"
        },
        "id": "GSjnfp2B6kgM",
        "outputId": "0dae0f49-8240-47f9-a359-fe00ac4c011f"
      },
      "execution_count": null,
      "outputs": [
        {
          "output_type": "stream",
          "name": "stdout",
          "text": [
            "¿Cuantas personas queire invitar a la fiesta?2\n",
            "Ingrese el nombre de la persona:dnaiel\n",
            "dnaiel ha sido invitado\n",
            "Ingrese el nombre de la persona:feb\n",
            "feb ha sido invitado\n"
          ]
        }
      ]
    },
    {
      "cell_type": "markdown",
      "source": [
        "Retos:\n",
        "1. Muestra un número entero aleatorio entre 1 y 100 inclusive.\n",
        "2. Elija aleatoriamente cara o cruz (“h” o “t”). Pídale al usuario que haga su elección. Si su elección es la misma que el valor seleccionado al azar, muestra el mensaje \"Tú ganas\", de lo contrario muestra \"Mala suerte\". Al final, dígale al usuario si la computadora seleccionó cara o cruz.\n",
        "3. Haga una prueba de matemáticas que formule cinco preguntas generando aleatoriamente dos números enteros para formar la pregunta (por ejemplo, [num1] + [num2]). Pídale al usuario que ingrese la respuesta. Si lo hacen bien, suman un punto a su puntuación. Al final del cuestionario, dígales cuántos de cinco acertaron.\n",
        "4. Muestra cinco colores y pide al usuario que elija uno. Si eligen el mismo que eligió el programa, diga \"Bien hecho\", de lo contrario muestre una respuesta ingeniosa que involucre el color correcto, por ejemplo. “Apuesto a que estás VERDE de envidia” o “Probablemente te sientas AZUL en este momento”. Pídales que adivinen nuevamente; Si todavía no lo han hecho bien, sigue dándoles la misma pista y pide al usuario que introduzca un color hasta que lo adivine correctamente.\n",
        "\n",
        "Nota: En el último ejercicio, tendrás que usar el ciclo `while` y el condicional `if`."
      ],
      "metadata": {
        "id": "Gvhmh7gz6oJt"
      }
    },
    {
      "cell_type": "code",
      "source": [
        "#Reto 4.1\n",
        "print(random.randint(1, 100))"
      ],
      "metadata": {
        "colab": {
          "base_uri": "https://localhost:8080/"
        },
        "id": "jX7zGAGU7dPA",
        "outputId": "3295171c-ba37-472d-b231-f6167cbe8690"
      },
      "execution_count": null,
      "outputs": [
        {
          "output_type": "stream",
          "name": "stdout",
          "text": [
            "79\n"
          ]
        }
      ]
    },
    {
      "cell_type": "code",
      "source": [
        "#Reto 4.2\n",
        "compu = random.randint(1,2)\n",
        "user = input(\"Ingrese cara o cruz:\")\n",
        "if compu == 1:\n",
        "  compu = \"cara\"\n",
        "else:\n",
        "  compu = \"cruz\"\n",
        "if compu == user:\n",
        "  print(\"Tú ganas\")\n",
        "else:\n",
        "  print(\"Mala suerte\")\n",
        "print(f\"La computadora eligió {compu}\")"
      ],
      "metadata": {
        "colab": {
          "base_uri": "https://localhost:8080/"
        },
        "id": "v6vuk3Dp7vLv",
        "outputId": "8a899296-d004-43ce-bee0-e7fdd8ffdf34"
      },
      "execution_count": null,
      "outputs": [
        {
          "output_type": "stream",
          "name": "stdout",
          "text": [
            "Ingrese cara o cruz:cara\n",
            "Mala suerte\n",
            "La computadora eligió cruz\n"
          ]
        }
      ]
    },
    {
      "cell_type": "code",
      "source": [
        "#Reto 4.3\n",
        "print(\"Responda las siguientes 5 preguntas, cada acierto suma dos puntos, al final se dara el puntaje.\")\n",
        "a = input(\"¿Cuál es la raíz cuadarada de 144? \")\n",
        "if a == \"12\":\n",
        "  puntaje = 2\n",
        "else:\n",
        "  puntaje = 0\n",
        "\n",
        "a = input(\"¿Cuál es el número primo más grande? \")\n",
        "if a == \"7\":\n",
        "  puntaje += 2\n",
        "else:\n",
        "  puntaje += 0\n",
        "\n",
        "a = input(\"¿Cuál es el número primo más pequeño? \")\n",
        "if a == \"2\":\n",
        "  puntaje += 2\n",
        "else:\n",
        "  puntaje += 0\n",
        "\n",
        "a = input(\"¿Cuál es la raíz cuadrada de 169? \")\n",
        "if a == \"13\":\n",
        "  puntaje += 2\n",
        "else:\n",
        "  puntaje += 0\n",
        "\n",
        "a = input(\"¿Cuánto es 50 x 12? \")\n",
        "if a == \"600\":\n",
        "  puntaje += 2\n",
        "else:\n",
        "  puntaje += 0\n",
        "\n",
        "print(f\"Tu puntaje fue de {puntaje} puntos.\")"
      ],
      "metadata": {
        "id": "LFJJrF2x-iDX",
        "colab": {
          "base_uri": "https://localhost:8080/"
        },
        "outputId": "75072238-cbbc-4f9a-e993-ec2a04aae62a"
      },
      "execution_count": null,
      "outputs": [
        {
          "output_type": "stream",
          "name": "stdout",
          "text": [
            "Responda las siguientes 5 preguntas, cada acierto suma dos puntos, al final se dara el puntaje.\n",
            "¿Cuál es la raíz cuadarada de 144? 12\n",
            "¿Cuál es el número primo más grande? 7\n",
            "¿Cuál es el número primo más pequeño? 2\n",
            "¿Cuál es la raíz cuadrada de 169? 13\n",
            "¿Cuánto es 50 x 12? 600\n",
            "Tu puntaje fue de 10 puntos.\n"
          ]
        }
      ]
    },
    {
      "cell_type": "code",
      "source": [
        "#Reto 4.4\n",
        "colores = [\"rojo\", \"azul\", \"verde\", \"amarillo\", \"naranja\"]\n",
        "compu = random.choice(colores)\n",
        "user = input(\"Elija uno de los siguientes colores: azul, rojo, verde, amarillo, naranja. \")\n",
        "if compu == user:\n",
        "  print(\"Bien hecho\")\n",
        "else:\n",
        "  if compu == \"rojo\":\n",
        "    print(\"Probablemente estes rojo de envidia\")\n",
        "  elif compu == \"azul\":\n",
        "    print(\"Problabemente te sientas Azul en este momento\")\n",
        "  elif compu == \"verde\":\n",
        "    print(\"Estas verde para esto\")\n",
        "  elif compu == \"amarillo\":\n",
        "    print(\"Te pusiste amarrillo con la respuesta\")\n",
        "  elif compu == \"naranja\":\n",
        "    print(\"Come una naranja, te hace falta\")\n",
        "user = input(\"Intenta adivinar de nuevo: \")\n",
        "if compu == user:\n",
        "  print(\"Bien hecho\")\n",
        "  print(f\"La computadora eligió {compu}\")\n",
        "else:\n",
        "  print(\"Mala suerte\")\n",
        "  print(f\"La computadora eligió {compu}\")"
      ],
      "metadata": {
        "colab": {
          "base_uri": "https://localhost:8080/"
        },
        "id": "r9svDKaqZHKg",
        "outputId": "5ea7c913-c617-41f1-c712-81652d9d5cc2"
      },
      "execution_count": null,
      "outputs": [
        {
          "output_type": "stream",
          "name": "stdout",
          "text": [
            "Elija uno de los siguientes colores: azul, rojo, verde, amarillo, naranja. naranja\n",
            "Probablemente estes rojo de envidia\n",
            "Intenta adivinar de nuevo: rojo\n",
            "Bien hecho\n",
            "La computadora eligió rojo\n"
          ]
        }
      ]
    },
    {
      "cell_type": "markdown",
      "source": [
        "\n",
        "**Tarea/Reto: Investigar otros métodos de las listas en Python**\n",
        "\n",
        "Investiga otros métodos disponibles para manipular listas en Python, además de los mencionados anteriormente. En particular, busca información sobre el método `index()` y al menos otros tres métodos adicionales que sean útiles para trabajar con listas.\n",
        "\n",
        "Documenta qué hacen estos métodos y proporciona ejemplos de su uso. Explica en qué situaciones sería útil utilizar cada uno de estos métodos y cómo pueden contribuir a la manipulación eficiente de listas en Python.\n",
        "\n",
        "Una vez completada la investigación, comparte tus hallazgos en moodle."
      ],
      "metadata": {
        "id": "zYuxOJTs6u1f"
      }
    },
    {
      "cell_type": "code",
      "source": [
        "#Uso de index(), muestra el indice de un valor dentro de una lista.\n",
        "lista = [10, 20, 30, 40, 50]\n",
        "indice = lista.index(30)\n",
        "print(indice)"
      ],
      "metadata": {
        "colab": {
          "base_uri": "https://localhost:8080/"
        },
        "id": "gdPMmPPigrRm",
        "outputId": "2614ba52-0619-497a-be1a-f2803c7483bf"
      },
      "execution_count": 3,
      "outputs": [
        {
          "output_type": "stream",
          "name": "stdout",
          "text": [
            "2\n"
          ]
        }
      ]
    },
    {
      "cell_type": "code",
      "source": [
        "#Metodó count(), cuneta el número de veces que se repite un valor dentro de una lista.\n",
        "lista = [10, 20, 30, 40, 10, 20, 10, 30]\n",
        "cuenta = lista.count(30)\n",
        "print(cuenta)"
      ],
      "metadata": {
        "colab": {
          "base_uri": "https://localhost:8080/"
        },
        "id": "FNalNkaYhRbI",
        "outputId": "2c615742-8291-4d21-97b6-15a56fed888e"
      },
      "execution_count": 4,
      "outputs": [
        {
          "output_type": "stream",
          "name": "stdout",
          "text": [
            "2\n"
          ]
        }
      ]
    },
    {
      "cell_type": "code",
      "source": [
        "# Metodó reverse(), cambia el orden de la lista. El último valor pasa a ser el primero.\n",
        "lista = [10, 20, 30, 40, 50]\n",
        "lista.reverse()\n",
        "print(lista)"
      ],
      "metadata": {
        "colab": {
          "base_uri": "https://localhost:8080/"
        },
        "id": "1zGUdm8mhsOa",
        "outputId": "d407e116-02fb-4e57-c4e6-3e4686c655d5"
      },
      "execution_count": 13,
      "outputs": [
        {
          "output_type": "stream",
          "name": "stdout",
          "text": [
            "[50, 40, 30, 20, 10]\n"
          ]
        }
      ]
    },
    {
      "cell_type": "code",
      "source": [
        "# Método sort(), ordena los valores de menor a mayor. con reverse=True se puede ordenar de mayor a menor.\n",
        "lista = [10, 40, 50, 20, 30]\n",
        "lista.sort()\n",
        "print(lista)\n",
        "\n",
        "lista = [10, 40, 50, 20, 30]\n",
        "lista.sort(reverse=True)\n",
        "print(lista)"
      ],
      "metadata": {
        "colab": {
          "base_uri": "https://localhost:8080/"
        },
        "id": "jpTatxnKid55",
        "outputId": "5b2bf96a-ddca-44cf-8f0d-0873f106611f"
      },
      "execution_count": 16,
      "outputs": [
        {
          "output_type": "stream",
          "name": "stdout",
          "text": [
            "[10, 20, 30, 40, 50]\n",
            "[50, 40, 30, 20, 10]\n"
          ]
        }
      ]
    },
    {
      "cell_type": "markdown",
      "source": [
        "Retos:\n",
        "1. Defina una función que le pida al usuario que ingrese un número y lo guarde como la variable \"num\". Luego defina otra función que use \"num\" y cuente desde 1 hasta ese número. (Nota: sigue la lógia de divide y vencerás).\n",
        "2. Muestra el siguiente mensaje:\n",
        "```\n",
        "1) Sumar\n",
        "2) Restar\n",
        "```\n",
        "Si introduce 1, se generan dos númerso aleatorios antre 5 y 20, y luego pedirle al usuario que realice la suma de esos dos números. Después, comprobar si la suma se realizo de manera correcta, y decirle al usuario su realizo de manera correcta o no la operación.\n",
        "Si se selecciona 2, entonces se deben generar dos números aleatorios, uno entre 25 y 50 (`num_01`), y el otro en 1 y 25 (`num_02`), después se le pedirá al usuario que reste `num_01` menos `num_02`. De igual manera, decir al usuario si la respuesta fue correcta o no.\n",
        "3. Cree el siguiente menú:\n",
        "```\n",
        "1) Agregar a archivo.\n",
        "2) Ver los registros.\n",
        "3) Salir del programa.\n",
        "```\n",
        "Si el usuario selecciona 1, permítale agregar a un archivo llamado Salaries.csv que almacenará su nombre y salario. Si seleccionan 2, debería mostrar todos los registros en el archivo Salaries.csv. Si seleccionan 3, debería detener el programa. Si seleccionan una opción incorrecta, deberían ver un mensaje de error. Deberán seguir regresando al menú hasta seleccionar la opción 3.\n",
        "Nota: En este reto, tienes que usar `while` y el modulo `csv`."
      ],
      "metadata": {
        "id": "ZGhkb3YP693Y"
      }
    },
    {
      "cell_type": "code",
      "source": [
        "#Reto 5.1\n",
        "num = input(\"Introduce un número: \")\n",
        "def funcion(num):\n",
        "  for i in range(1, int(num) + 1):\n",
        "    print(i)\n",
        "funcion(num)"
      ],
      "metadata": {
        "colab": {
          "base_uri": "https://localhost:8080/"
        },
        "id": "xIldtY3moyeF",
        "outputId": "d5ae6225-8fce-478f-b9bf-f796c54a79ba"
      },
      "execution_count": null,
      "outputs": [
        {
          "name": "stdout",
          "output_type": "stream",
          "text": [
            "Introduce un número: 34\n"
          ]
        }
      ]
    },
    {
      "cell_type": "code",
      "source": [
        "#Reto 5.2\n",
        "print(\"1) Sumar\\n2) Restar\")\n",
        "user = input(\"Elija una opción: \")\n",
        "if user == \"1\":\n",
        "  num_01 = random.randint(5, 20)\n",
        "  num_02 = random.randint(5, 20)\n",
        "  print(f\"Los números son: {num_01} y {num_02}, favor de escribir el resultado de la suma.\")\n",
        "  a = int(input())\n",
        "  if num_01 + num_02 == a:\n",
        "    print(\"La suma se realizo de manera correcta\")\n",
        "  else:\n",
        "    print(\"La suma no se realizo de manera correcta\")\n",
        "if user == \"2\":\n",
        "  num_01 = random.randint(25, 50)\n",
        "  num_02 = random.randint(1, 25)\n",
        "  print(f\"Los números son: {num_01} y {num_02}, favor de escribir el resultado de la resta.\")\n",
        "  if num_01 - num_02 == int(input()):\n",
        "    print(\"La resta se realizo de manera correcta\")\n",
        "  else:\n",
        "    print(\"La resta no se realizo de manera correcta\")\n"
      ],
      "metadata": {
        "colab": {
          "base_uri": "https://localhost:8080/"
        },
        "id": "aZXCDct0_P16",
        "outputId": "4fb29c80-6493-438c-8f49-5cea8adf52ba"
      },
      "execution_count": null,
      "outputs": [
        {
          "output_type": "stream",
          "name": "stdout",
          "text": [
            "1) Sumar\n",
            "2) Restar\n",
            "Elija una opción: 1\n",
            "Los números son: 7 y 11, favor de escribir el resultado de la suma.\n",
            "18\n",
            "La suma se realizo de manera correcta\n"
          ]
        }
      ]
    },
    {
      "cell_type": "code",
      "source": [
        "#Reto 5.3\n",
        "print(\"1) Agregar archivo.\\n2) Ver los registros.\\n3) Salir del programa.\")\n",
        "user = int(input(\"Elija una opción: \"))\n",
        "while user != 3:\n",
        "  if user == 1:\n",
        "      name = input(\"Ingrese su nombre: \")\n",
        "      salario = input(\"Ingrese su salario: \")\n",
        "      df = pd.DataFrame({\"Nombre\": [name], \"Salario\": [salario]})\n",
        "      df.to_csv(\"Salaries.csv\", mode='a', header=False, index=False)\n",
        "      print(\"Registro agregado\")\n",
        "  elif user == 2:\n",
        "    try:\n",
        "      df = pd.read_csv(\"Salaries.csv\")\n",
        "      print(df)\n",
        "    except FileNotFoundError:\n",
        "      print(\"No se encontraron registros.\")\n",
        "  else:\n",
        "      print(\"Opción incorrecta\")\n",
        "  user =int(input(\"Elija una opción: \"))\n",
        "print(\"Programa finalizado\")"
      ],
      "metadata": {
        "colab": {
          "base_uri": "https://localhost:8080/"
        },
        "id": "OmE7OOUBB2MW",
        "outputId": "5fd8f0cc-1781-45d9-e477-9fe5183b3b3a"
      },
      "execution_count": null,
      "outputs": [
        {
          "output_type": "stream",
          "name": "stdout",
          "text": [
            "1) Agregar archivo.\n",
            "2) Ver los registros.\n",
            "3) Salir del programa.\n",
            "Elija una opción: 4\n",
            "Opción incorrecta\n",
            "Elija una opción: 2\n",
            "No se encontraron registros.\n",
            "Elija una opción: 1\n",
            "Ingrese su nombre: Daniel\n",
            "Ingrese su salario: 12000\n",
            "Registro agregado\n",
            "Elija una opción: 2\n",
            "Empty DataFrame\n",
            "Columns: [Daniel, 12000]\n",
            "Index: []\n",
            "Elija una opción: 4\n",
            "Opción incorrecta\n",
            "Elija una opción: 3\n",
            "Programa finalizado\n"
          ]
        }
      ]
    },
    {
      "cell_type": "markdown",
      "source": [
        "Retos:\n",
        "\n",
        "1. Crear una clase Persona: Define una clase llamada `Person` que tenga atributos como `name`, `age`, y `city`. Luego, crea objetos de esta clase para representar diferentes personas y accede a sus atributos. Y crea ejemplos donde se solicite la información de una persona creada.\n",
        "2. Crear una clase Rectangulo: Define una clase llamada `Rectangle` que tenga atributos `height` y `width`. Luego, agrega métodos para calcular el área y el perímetro del rectángulo. Luego crea un ejemplo, donde se crea un rectangulo y se obtiene tanto la informaicón de su área, como de su périmetro.\n",
        "3. Crear una clase Estudiante: Define una clase llamada `Student` que herede de la clase Persona (`Person`) (del ejercicio 1). Agrega atributos adicionales como grado y promedio academico. Luego, crea objetos de esta clase para representar diferentes estudiantes y accede tanto a los atributos heredados como a los propios."
      ],
      "metadata": {
        "id": "ahmSA12Z7J-Q"
      }
    },
    {
      "cell_type": "code",
      "source": [
        "#Reto 6.1\n",
        "class Person:\n",
        "    def __init__(self, name, age, city):\n",
        "        self.name = name\n",
        "        self.age = age\n",
        "        self.city = city\n",
        "\n",
        "    def get_info(self):\n",
        "        return f\"Name: {self.name}, Age: {self.age}, City: {self.city}\"\n",
        "\n",
        "# Crear personas\n",
        "person1 = Person(\"Daniel\", 30, \"Silao\")\n",
        "person2 = Person(\"Alejandra\", 25, \"León\")\n",
        "person3 = Person(\"Carlos\", 40, \"Guanajuato\")\n",
        "\n",
        "# Solicitar información de cada persona\n",
        "print(person1.get_info())  # Salida: Name: Daniel, Age: 30, City: Silao\n",
        "print(person2.get_info())  # Salida: Name: Alejandra, Age: 25, City: León\n",
        "print(person3.get_info())  # Salida: Name: Carlos, Age: 40, City: Guanajuato\n",
        "\n"
      ],
      "metadata": {
        "id": "SIEek7CBHdPc",
        "colab": {
          "base_uri": "https://localhost:8080/"
        },
        "outputId": "276bbc4c-cc26-4fe3-a70d-5160ceea0ea5"
      },
      "execution_count": null,
      "outputs": [
        {
          "output_type": "stream",
          "name": "stdout",
          "text": [
            "Name: Daniel, Age: 30, City: Silao\n",
            "Name: Alejandra, Age: 25, City: León\n",
            "Name: Carlos, Age: 40, City: Guanajuato\n"
          ]
        }
      ]
    },
    {
      "cell_type": "code",
      "source": [
        "#Reto 6.2\n",
        "class Rectangle:\n",
        "  def __init__(self, height, width):\n",
        "    self.height = height\n",
        "    self.width = width\n",
        "\n",
        "  def area(self):\n",
        "    return self.height * self.width\n",
        "\n",
        "  def perimeter(self):\n",
        "    return 2 * (self.height + self.width)\n",
        "\n",
        "rectangle = Rectangle(5, 10)\n",
        "\n",
        "print(f\"El área del rectángulo es: {rectangle.area()}\")\n",
        "print(f\"El perímetro del rectángulo es: {rectangle.perimeter()}\")"
      ],
      "metadata": {
        "colab": {
          "base_uri": "https://localhost:8080/"
        },
        "id": "32NEgOEHidqe",
        "outputId": "cb536df0-2b8b-4a3e-f743-ab095b462cd4"
      },
      "execution_count": null,
      "outputs": [
        {
          "output_type": "stream",
          "name": "stdout",
          "text": [
            "El área del rectángulo es: 50\n",
            "El perímetro del rectángulo es: 30\n"
          ]
        }
      ]
    },
    {
      "cell_type": "code",
      "source": [
        "#Reto 6.3\n",
        "class student:\n",
        "  def __init__(self, Person, grado, promedio):\n",
        "    self.Person = Person\n",
        "    self.grado = grado\n",
        "    self.promedio = promedio\n",
        "\n",
        "  def get_info(self):\n",
        "    return f\"Nombre: {self.Person.name}, Edad: {self.Person.age}, Ciudad: {self.Person.city}, Grado:{self.grado}, Promedio: {self.promedio}\"\n",
        "\n",
        "student1 = student(person1, \"Licenciatura\", 9.3)\n",
        "student2 = student(person2, \"Ingeniería\", 8.5)\n",
        "student3 = student(person3, \"Medicina\", 7.8)\n",
        "\n",
        "print(student1.get_info())\n",
        "print(student2.get_info())\n",
        "print(student3.get_info())"
      ],
      "metadata": {
        "colab": {
          "base_uri": "https://localhost:8080/"
        },
        "id": "0P0Y0jhekYrD",
        "outputId": "ca12a928-3f57-4d97-c2a3-d9cfdb044c14"
      },
      "execution_count": null,
      "outputs": [
        {
          "output_type": "stream",
          "name": "stdout",
          "text": [
            "Nombre: Daniel, Edad: 30, Ciudad: Silao, Grado:Licenciatura, Promedio: 9.3\n",
            "Nombre: Alejandra, Edad: 25, Ciudad: León, Grado:Ingeniería, Promedio: 8.5\n",
            "Nombre: Carlos, Edad: 40, Ciudad: Guanajuato, Grado:Medicina, Promedio: 7.8\n"
          ]
        }
      ]
    },
    {
      "cell_type": "markdown",
      "source": [
        "Retos:\n",
        "\n",
        "1. **Crear una Serie de precios de productos:**\n",
        "   Crea una Serie que represente los precios de diferentes productos en una tienda. Utiliza nombres de productos como índices y asigna precios aleatorios. Luego, filtra la Serie para mostrar solo los productos con un precio mayor a cierto valor específico.\n",
        "\n",
        "2. **Crear una Serie de calificaciones de estudiantes:**\n",
        "   Crea una Serie que represente las calificaciones de diferentes estudiantes en un examen. Utiliza los nombres de los estudiantes como índices y asigna calificaciones aleatorias entre 0 y 100. Luego, calcula el promedio de las calificaciones y muestra las calificaciones de los estudiantes que superaron este promedio.\n",
        "\n",
        "3. **Crear una Serie de temperaturas diarias:**\n",
        "   Crea una Serie que represente las temperaturas diarias registradas en una ciudad durante una semana. Utiliza los nombres de los días de la semana como índices y asigna temperaturas aleatorias. Luego, calcula la temperatura promedio de la semana y muestra los días donde la temperatura superó este promedio."
      ],
      "metadata": {
        "id": "uYooq1ci7VzI"
      }
    },
    {
      "cell_type": "code",
      "source": [
        "#Reto 7.1\n",
        "productos = [\"Camiseta\", \"Pantalón\", \"Zapatos\", \"Bolso\", \"Reloj\"]\n",
        "\n",
        "precios = np.random.randint(100, 1000, size=len(productos))\n",
        "\n",
        "serie = pd.Series(precios, index=productos)\n",
        "\n",
        "productos_superiores = serie[serie > 500]\n",
        "\n",
        "print(f\"Precio de los productos mayores a $500.00:\\n{[productos_superiores]}\")"
      ],
      "metadata": {
        "colab": {
          "base_uri": "https://localhost:8080/"
        },
        "id": "AeFH6ZrAmaK_",
        "outputId": "df292da6-0a75-454e-8ef0-37f4b2453c28"
      },
      "execution_count": 23,
      "outputs": [
        {
          "output_type": "stream",
          "name": "stdout",
          "text": [
            "Precio de los productos mayores a $500.00:\n",
            "[Camiseta    755\n",
            "Pantalón    977\n",
            "Bolso       971\n",
            "dtype: int64]\n"
          ]
        }
      ]
    },
    {
      "cell_type": "code",
      "source": [
        "#Reto 7.2\n",
        "estudiantes = ['Ana', 'Luis', 'Carlos', 'Sofía', 'María', 'Pedro', 'Laura', 'Andrés', 'Isabel', 'Javier']\n",
        "\n",
        "calificaciones = np.random.randint(0, 101, size=len(estudiantes))\n",
        "\n",
        "serie = pd.Series(calificaciones, index=estudiantes)\n",
        "\n",
        "promedio = serie.mean()\n",
        "\n",
        "calificaciones_superiores = serie[serie > promedio]\n",
        "\n",
        "print(f\"Las calificaciones de los alumnos son las siguientes:\\n{[serie]},\\nLa calificación promedio es de: {[promedio]},\\nLos alumnos con las calificaciones superiores al promedio son:\\n{[calificaciones_superiores]}\")\n"
      ],
      "metadata": {
        "colab": {
          "base_uri": "https://localhost:8080/"
        },
        "id": "eaJexLSUji4H",
        "outputId": "1bb3e517-d043-4baa-8caa-2c49ec906b58"
      },
      "execution_count": 21,
      "outputs": [
        {
          "output_type": "stream",
          "name": "stdout",
          "text": [
            "Las calificaciones de los alumnos son las siguientes:\n",
            "[Ana       79\n",
            "Luis      88\n",
            "Carlos     2\n",
            "Sofía     91\n",
            "María     87\n",
            "Pedro     21\n",
            "Laura     11\n",
            "Andrés    58\n",
            "Isabel    92\n",
            "Javier    26\n",
            "dtype: int64],\n",
            "La calificación promedio es de: [55.5],\n",
            "Los alumnos con las calificaciones superiores al promedio son:\n",
            "[Ana       79\n",
            "Luis      88\n",
            "Sofía     91\n",
            "María     87\n",
            "Andrés    58\n",
            "Isabel    92\n",
            "dtype: int64]\n"
          ]
        }
      ]
    },
    {
      "cell_type": "code",
      "source": [
        "#Reto 7.3\n",
        "dias = [\"Domingo\", \"Lunes\", \"Martes\", \"Miércoles\", \"Jueves\", \"Viernes\", \"Sábado\"]\n",
        "\n",
        "temperatura = np.random.randint(10, 35, size=len(dias))\n",
        "\n",
        "serie = pd.Series(temperatura, index=dias)\n",
        "\n",
        "promedio = serie.mean()\n",
        "\n",
        "temperatura_superior = serie[serie > promedio]\n",
        "\n",
        "print(f\"Los días com mayor temperatura fueron:\\n{[temperatura_superior]}\")\n"
      ],
      "metadata": {
        "colab": {
          "base_uri": "https://localhost:8080/"
        },
        "id": "Ntxt1oZyL0hj",
        "outputId": "05031fc1-e6bb-471b-bf30-cdb206b49ff0"
      },
      "execution_count": 37,
      "outputs": [
        {
          "output_type": "stream",
          "name": "stdout",
          "text": [
            "Los días com mayor temperatura fueron:\n",
            "[Domingo    21\n",
            "Lunes      29\n",
            "Jueves     21\n",
            "Sábado     27\n",
            "dtype: int64]\n"
          ]
        }
      ]
    },
    {
      "cell_type": "markdown",
      "source": [
        "Retos:\n",
        "1. **Explicación de expresión regular:**\n",
        "   - Explica con tus palabras que está haciendo la siguiente expresión regular: `[\\w\\.-]+@[\\w\\.-]+`.\n",
        "2. **Validar y retorn la direcciones de correo electrónico**:\n",
        "   - Cadena de texto: \"Ejemplo de dirección de correo electrónico: usuario@example.com\"\n",
        "\n",
        "3. **Extracción de números de teléfono**:\n",
        "   - Cadena de texto: \"Teléfono de contacto: 123-456-7890, Teléfono móvil: (987) 654-3210\"\n",
        "\n",
        "4. **Búsqueda de palabras clave en un texto**:\n",
        "   - Cadena de texto: \"Este es un ejemplo de texto donde queremos buscar la palabra clave 'ejemplo'.\""
      ],
      "metadata": {
        "id": "qpgKeNQ07n13"
      }
    },
    {
      "cell_type": "markdown",
      "source": [
        "Reto 8.1\n",
        "\n",
        "La expreción esta buscando algo con el formato de correo electrónico simple.\n",
        "\n",
        "\\w -> busca una o más repeticiones de cualquier carácter alfanumérico.\n",
        "\n",
        "\\.- -> busca puntos y guiones.\n",
        "\n",
        "[\\w\\.-]+ -> Se trata de una secuencia que asegura letras, número, puntos y guiones.\n",
        "\n",
        "@ -> Busca el arroba que esta presente en todas las direcciones de correo electrónico.\n",
        "\n",
        "Se repite la secuencia anterior para el dominio del correo electrónico."
      ],
      "metadata": {
        "id": "uIhv_jT9n3-i"
      }
    },
    {
      "cell_type": "code",
      "source": [
        "#Reto 8.2\n",
        "texto = \"Ejemplo de dirección de correo electrónico: usuario@example.com\"\n",
        "patron = r'[\\w\\.-]+@[\\w\\.-]+'\n",
        "emails = re.findall(patron, texto)\n",
        "print(emails)"
      ],
      "metadata": {
        "colab": {
          "base_uri": "https://localhost:8080/"
        },
        "id": "6q_25uQrrbOM",
        "outputId": "be5c22a8-b019-41d1-cdda-715a94ac9452"
      },
      "execution_count": 27,
      "outputs": [
        {
          "output_type": "stream",
          "name": "stdout",
          "text": [
            "['usuario@example.com']\n"
          ]
        }
      ]
    },
    {
      "cell_type": "code",
      "source": [
        "#Reto 8.3\n",
        "texto = \"Teléfono de contacto: 123-456-7890, Teléfono móvil: (987) 654-3210\"\n",
        "patron = r'\\(?\\d{3}\\)?[-\\s]?\\d{3}[-\\s]?\\d{4}'\n",
        "telefono = re.findall(patron, texto)\n",
        "print(telefono)"
      ],
      "metadata": {
        "colab": {
          "base_uri": "https://localhost:8080/"
        },
        "id": "AgsPkhBcxS2d",
        "outputId": "5d1a5a77-896c-42a4-9e91-7dfe8f4fed0a"
      },
      "execution_count": 33,
      "outputs": [
        {
          "output_type": "stream",
          "name": "stdout",
          "text": [
            "['123-456-7890', '(987) 654-3210']\n"
          ]
        }
      ]
    },
    {
      "cell_type": "code",
      "source": [
        "#\\(? -> dice que puede o no haber un paréntesis.\n",
        "\n",
        "#\\d{3} -> busca tres digitos.\n",
        "\n",
        "#\\)? -> puede o no haber un paréntesis.\n",
        "\n",
        "#[-\\s]? -> busca un guion o un espacio.\n",
        "\n",
        "##\\d{4} -> busca cuatro digitos."
      ],
      "metadata": {
        "id": "ZuU3YiDe2zZx"
      },
      "execution_count": null,
      "outputs": []
    },
    {
      "cell_type": "code",
      "source": [
        "#Reto 8.4\n",
        "texto = \"Este es un ejemplo de texto donde queremos buscar la palabra clave 'ejemplo'.\"\n",
        "clave = \"ejemplo\"\n",
        "patron = r'\\b' + clave + r'\\b'\n",
        "palabra = re.findall(patron, texto)\n",
        "print(palabra)\n",
        "# \\b -> asegura que coincida solo con la palabra completa y no con fragmentos de otras palabras que contengan \"ejemplo\"."
      ],
      "metadata": {
        "colab": {
          "base_uri": "https://localhost:8080/"
        },
        "id": "bX1AVR0t2_Xz",
        "outputId": "83671f16-891f-470c-9f9b-a2e52a8334ef"
      },
      "execution_count": 40,
      "outputs": [
        {
          "output_type": "stream",
          "name": "stdout",
          "text": [
            "['ejemplo', 'ejemplo']\n"
          ]
        }
      ]
    },
    {
      "cell_type": "markdown",
      "source": [
        "Reto:\n",
        "\n",
        "* Realizar WebScraping, se permite replicar el proyecto de algún tutorial que se encuentre en lina. En caso de replicar un proyecto, se tiene que describir linea a linea que está haciendo."
      ],
      "metadata": {
        "id": "GTp-EmkI7tKX"
      }
    },
    {
      "cell_type": "code",
      "source": [
        "#Paso 1: Importamos las librerías a utilizar.\n",
        "\n",
        "import requests #Esta librería se usa para hacer una solicitud HTTP a una página web y obtener el contenido de la misma.\n",
        "from bs4 import BeautifulSoup #Hace el contenido HTML más accesible. Nos permite analizar y extraer datos del contenido HTML."
      ],
      "metadata": {
        "id": "ov73YR4q6zU0"
      },
      "execution_count": 47,
      "outputs": []
    },
    {
      "cell_type": "code",
      "source": [
        "#Paso 2: Hacemos la solicitud a la pagina web.\n",
        "\n",
        "url = 'http://quotes.toscrape.com/'  # URL del sitio web que queremos scrapear.\n",
        "response = requests.get(url) #Hace una solicitud HTTP a la página. Si todo va bien, el contenido de la página será devuelto."
      ],
      "metadata": {
        "id": "PVElERcgEdeR"
      },
      "execution_count": 73,
      "outputs": []
    },
    {
      "cell_type": "code",
      "source": [
        "#Paso 3: Comprobamos si la solicitud fue exitosa.\n",
        "if response.status_code == 200:\n",
        "    print(\"Conexión exitosa\")\n",
        "else:\n",
        "    print(\"Error al conectar\")"
      ],
      "metadata": {
        "colab": {
          "base_uri": "https://localhost:8080/"
        },
        "id": "WWrNqmjSFq5b",
        "outputId": "9dc2d8d9-b30b-49ab-93b3-1e86c9ce8ca4"
      },
      "execution_count": 74,
      "outputs": [
        {
          "output_type": "stream",
          "name": "stdout",
          "text": [
            "Conexión exitosa\n"
          ]
        }
      ]
    },
    {
      "cell_type": "code",
      "source": [
        "#Paso 4: Analisamos el contenido HTML.\n",
        "\n",
        "soup = BeautifulSoup(response.content, 'html.parser') #Obtiene el contenido de la página en formato HTML."
      ],
      "metadata": {
        "id": "hFSdPpM3GB7B"
      },
      "execution_count": 75,
      "outputs": []
    },
    {
      "cell_type": "code",
      "source": [
        "#Paso 5: Extraemos las citas.\n",
        "\n",
        "citas = soup.find_all('span', class_='text') #Busca todos los elementos HTML que coincidan con el nombre de la etiqueta (span) y la clase (texto)."
      ],
      "metadata": {
        "id": "LURtNnl7GlKq"
      },
      "execution_count": 76,
      "outputs": []
    },
    {
      "cell_type": "code",
      "source": [
        "#Paso 6: Mostramos las citas extraidas.\n",
        "\n",
        "for cita in citas:\n",
        "    print(cita.get_text())"
      ],
      "metadata": {
        "colab": {
          "base_uri": "https://localhost:8080/"
        },
        "id": "brS1_DrlG83E",
        "outputId": "b14ba968-3dcc-426d-e2d4-89cc63a6169d"
      },
      "execution_count": 77,
      "outputs": [
        {
          "output_type": "stream",
          "name": "stdout",
          "text": [
            "“The world as we have created it is a process of our thinking. It cannot be changed without changing our thinking.”\n",
            "“It is our choices, Harry, that show what we truly are, far more than our abilities.”\n",
            "“There are only two ways to live your life. One is as though nothing is a miracle. The other is as though everything is a miracle.”\n",
            "“The person, be it gentleman or lady, who has not pleasure in a good novel, must be intolerably stupid.”\n",
            "“Imperfection is beauty, madness is genius and it's better to be absolutely ridiculous than absolutely boring.”\n",
            "“Try not to become a man of success. Rather become a man of value.”\n",
            "“It is better to be hated for what you are than to be loved for what you are not.”\n",
            "“I have not failed. I've just found 10,000 ways that won't work.”\n",
            "“A woman is like a tea bag; you never know how strong it is until it's in hot water.”\n",
            "“A day without sunshine is like, you know, night.”\n"
          ]
        }
      ]
    }
  ]
}